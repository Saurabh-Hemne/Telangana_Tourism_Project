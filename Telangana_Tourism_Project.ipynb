{
 "cells": [
  {
   "cell_type": "markdown",
   "id": "8ec9a3e9-6483-4a3b-ba5c-b23fd4d7ed9f",
   "metadata": {},
   "source": [
    "### Links to dataset\n",
    "Dataset link 1: https://data.telangana.gov.in/dataset/tourism-foreign-visitors-data\n",
    "<br>\n",
    "Dataset link 2: https://data.telangana.gov.in/dataset/tourism-domestic-visitors-data"
   ]
  },
  {
   "cell_type": "markdown",
   "id": "8aa06733-553b-486a-b457-4b675474ead5",
   "metadata": {},
   "source": [
    "### Data Merging"
   ]
  },
  {
   "cell_type": "code",
   "execution_count": 1,
   "id": "ff4c1409-8242-4bb1-b2db-d492632dfa05",
   "metadata": {},
   "outputs": [
    {
     "name": "stdout",
     "output_type": "stream",
     "text": [
      "Files combined successfully!\n"
     ]
    }
   ],
   "source": [
    "import pandas as pd\n",
    "\n",
    "# List of CSV files to combine\n",
    "file_paths = ['Tourism Foreign Visitors Data 2023.csv', 'Tourism Foreign Visitors Data 2022.csv', 'Tourism Foreign Visitors Data 2021.csv', \n",
    "    'Tourism Foreign Visitors Data 2020.csv', 'Tourism Foreign Visitors Data 2019.csv', 'Tourism Foreign Visitors Data 2018.csv',\n",
    "    'Tourism Foreign Visitors Data 2017.csv', 'Tourism Foreign Visitors Data 2016.csv', 'Tourism Foreign Visitors Data 2015.csv',\n",
    "    'Tourism Foreign Visitors Data 2014.csv', 'Tourism Domestic Visitors Data 2023.csv', 'Tourism Domestic Visitors Data 2022.csv',\n",
    "    'Tourism Domestic Visitors Data 2021.csv', 'Tourism Domestic Visitors Data 2020.csv', 'Tourism Domestic Visitors Data 2019.csv',\n",
    "    'Tourism Domestic Visitors Data 2018.csv', 'Tourism Domestic Visitors Data 2017.csv', 'Tourism Domestic Visitors Data 2016.csv',\n",
    "    'Tourism Domestic Visitors Data 2015.csv', 'Tourism Domestic Visitors Data 2014.csv']\n",
    "\n",
    "# List to hold the DataFrames\n",
    "dfs = []\n",
    "\n",
    "for file_path in file_paths:\n",
    "    df = pd.read_csv(file_path)\n",
    "    dfs.append(df)\n",
    "\n",
    "# Concatenate all DataFrames\n",
    "combined_df = pd.concat(dfs, ignore_index=False)\n",
    "combined_df.to_csv(\"Combined_Tourism_Visitor's_data.csv\", index=True)\n",
    "print('Files combined successfully!') "
   ]
  },
  {
   "cell_type": "code",
   "execution_count": 2,
   "id": "4a88dd40-7116-44a1-b8dc-ef8495ce3020",
   "metadata": {},
   "outputs": [],
   "source": [
    "df = df.copy() "
   ]
  },
  {
   "cell_type": "code",
   "execution_count": 3,
   "id": "c5c5678f-a840-4238-9ff2-199427f93ca9",
   "metadata": {},
   "outputs": [
    {
     "name": "stdout",
     "output_type": "stream",
     "text": [
      "   District     Month  Visitors  Year\n",
      "0  Adilabad   January         0  2023\n",
      "1  Adilabad  February         0  2023\n",
      "2  Adilabad     March         0  2023\n",
      "3  Adilabad     April         0  2023\n",
      "4  Adilabad       May         0  2023\n"
     ]
    }
   ],
   "source": [
    "df = pd.read_csv('Tourism Foreign Visitors Data 2023.csv')\n",
    "df['Year'] = 2023\n",
    "output_path = 'Tourism Foreign Visitors Data 2023.csv'\n",
    "df.to_csv(output_path, index=False)\n",
    "print(df.head())"
   ]
  },
  {
   "cell_type": "markdown",
   "id": "13687276-917b-4dbf-85fd-8b2eaa5daf18",
   "metadata": {},
   "source": [
    "### Data Extraction"
   ]
  },
  {
   "cell_type": "code",
   "execution_count": 4,
   "id": "d0db3680-de4c-40e9-b44e-ed3feff546ac",
   "metadata": {},
   "outputs": [],
   "source": [
    "import numpy as np"
   ]
  },
  {
   "cell_type": "code",
   "execution_count": 5,
   "id": "4e16ee35-9655-4bd4-8bfe-5aaaa6700f6f",
   "metadata": {},
   "outputs": [
    {
     "data": {
      "text/html": [
       "<div>\n",
       "<style scoped>\n",
       "    .dataframe tbody tr th:only-of-type {\n",
       "        vertical-align: middle;\n",
       "    }\n",
       "\n",
       "    .dataframe tbody tr th {\n",
       "        vertical-align: top;\n",
       "    }\n",
       "\n",
       "    .dataframe thead th {\n",
       "        text-align: right;\n",
       "    }\n",
       "</style>\n",
       "<table border=\"1\" class=\"dataframe\">\n",
       "  <thead>\n",
       "    <tr style=\"text-align: right;\">\n",
       "      <th></th>\n",
       "      <th>Unnamed: 0</th>\n",
       "      <th>District</th>\n",
       "      <th>Month</th>\n",
       "      <th>Visitors</th>\n",
       "      <th>Year</th>\n",
       "      <th>Unnamed: 3</th>\n",
       "      <th>Unnamed: 4</th>\n",
       "      <th>Unnamed: 5</th>\n",
       "      <th>Unnamed: 6</th>\n",
       "      <th>Unnamed: 7</th>\n",
       "      <th>Unnamed: 8</th>\n",
       "      <th>Unnamed: 9</th>\n",
       "      <th>Unnamed: 10</th>\n",
       "      <th>Unnamed: 11</th>\n",
       "      <th>Unnamed: 12</th>\n",
       "      <th>Unnamed: 13</th>\n",
       "    </tr>\n",
       "  </thead>\n",
       "  <tbody>\n",
       "    <tr>\n",
       "      <th>0</th>\n",
       "      <td>0</td>\n",
       "      <td>Adilabad</td>\n",
       "      <td>January</td>\n",
       "      <td>0</td>\n",
       "      <td>2023</td>\n",
       "      <td>NaN</td>\n",
       "      <td>NaN</td>\n",
       "      <td>NaN</td>\n",
       "      <td>NaN</td>\n",
       "      <td>NaN</td>\n",
       "      <td>NaN</td>\n",
       "      <td>NaN</td>\n",
       "      <td>NaN</td>\n",
       "      <td>NaN</td>\n",
       "      <td>NaN</td>\n",
       "      <td>NaN</td>\n",
       "    </tr>\n",
       "    <tr>\n",
       "      <th>1</th>\n",
       "      <td>1</td>\n",
       "      <td>Adilabad</td>\n",
       "      <td>February</td>\n",
       "      <td>0</td>\n",
       "      <td>2023</td>\n",
       "      <td>NaN</td>\n",
       "      <td>NaN</td>\n",
       "      <td>NaN</td>\n",
       "      <td>NaN</td>\n",
       "      <td>NaN</td>\n",
       "      <td>NaN</td>\n",
       "      <td>NaN</td>\n",
       "      <td>NaN</td>\n",
       "      <td>NaN</td>\n",
       "      <td>NaN</td>\n",
       "      <td>NaN</td>\n",
       "    </tr>\n",
       "    <tr>\n",
       "      <th>2</th>\n",
       "      <td>2</td>\n",
       "      <td>Adilabad</td>\n",
       "      <td>March</td>\n",
       "      <td>0</td>\n",
       "      <td>2023</td>\n",
       "      <td>NaN</td>\n",
       "      <td>NaN</td>\n",
       "      <td>NaN</td>\n",
       "      <td>NaN</td>\n",
       "      <td>NaN</td>\n",
       "      <td>NaN</td>\n",
       "      <td>NaN</td>\n",
       "      <td>NaN</td>\n",
       "      <td>NaN</td>\n",
       "      <td>NaN</td>\n",
       "      <td>NaN</td>\n",
       "    </tr>\n",
       "  </tbody>\n",
       "</table>\n",
       "</div>"
      ],
      "text/plain": [
       "   Unnamed: 0  District     Month Visitors  Year  Unnamed: 3  Unnamed: 4  \\\n",
       "0           0  Adilabad   January        0  2023         NaN         NaN   \n",
       "1           1  Adilabad  February        0  2023         NaN         NaN   \n",
       "2           2  Adilabad     March        0  2023         NaN         NaN   \n",
       "\n",
       "   Unnamed: 5  Unnamed: 6  Unnamed: 7  Unnamed: 8  Unnamed: 9  Unnamed: 10  \\\n",
       "0         NaN         NaN         NaN         NaN         NaN          NaN   \n",
       "1         NaN         NaN         NaN         NaN         NaN          NaN   \n",
       "2         NaN         NaN         NaN         NaN         NaN          NaN   \n",
       "\n",
       "   Unnamed: 11  Unnamed: 12  Unnamed: 13  \n",
       "0          NaN          NaN          NaN  \n",
       "1          NaN          NaN          NaN  \n",
       "2          NaN          NaN          NaN  "
      ]
     },
     "execution_count": 5,
     "metadata": {},
     "output_type": "execute_result"
    }
   ],
   "source": [
    "df = pd.read_csv(\"Combined_Tourism_Visitor's_data.csv\")\n",
    "df.head(3)"
   ]
  },
  {
   "cell_type": "code",
   "execution_count": 6,
   "id": "c3390bf4-1c71-494a-a06f-e5993f89e8d2",
   "metadata": {},
   "outputs": [
    {
     "data": {
      "text/html": [
       "<div>\n",
       "<style scoped>\n",
       "    .dataframe tbody tr th:only-of-type {\n",
       "        vertical-align: middle;\n",
       "    }\n",
       "\n",
       "    .dataframe tbody tr th {\n",
       "        vertical-align: top;\n",
       "    }\n",
       "\n",
       "    .dataframe thead th {\n",
       "        text-align: right;\n",
       "    }\n",
       "</style>\n",
       "<table border=\"1\" class=\"dataframe\">\n",
       "  <thead>\n",
       "    <tr style=\"text-align: right;\">\n",
       "      <th></th>\n",
       "      <th>Unnamed: 0</th>\n",
       "      <th>District</th>\n",
       "      <th>Month</th>\n",
       "      <th>Visitors</th>\n",
       "      <th>Year</th>\n",
       "      <th>Unnamed: 3</th>\n",
       "      <th>Unnamed: 4</th>\n",
       "      <th>Unnamed: 5</th>\n",
       "      <th>Unnamed: 6</th>\n",
       "      <th>Unnamed: 7</th>\n",
       "      <th>Unnamed: 8</th>\n",
       "      <th>Unnamed: 9</th>\n",
       "      <th>Unnamed: 10</th>\n",
       "      <th>Unnamed: 11</th>\n",
       "      <th>Unnamed: 12</th>\n",
       "      <th>Unnamed: 13</th>\n",
       "    </tr>\n",
       "  </thead>\n",
       "  <tbody>\n",
       "    <tr>\n",
       "      <th>6667</th>\n",
       "      <td>369</td>\n",
       "      <td>Yadadri Bhongir</td>\n",
       "      <td>October</td>\n",
       "      <td>584800</td>\n",
       "      <td>2014</td>\n",
       "      <td>NaN</td>\n",
       "      <td>NaN</td>\n",
       "      <td>NaN</td>\n",
       "      <td>NaN</td>\n",
       "      <td>NaN</td>\n",
       "      <td>NaN</td>\n",
       "      <td>NaN</td>\n",
       "      <td>NaN</td>\n",
       "      <td>NaN</td>\n",
       "      <td>NaN</td>\n",
       "      <td>NaN</td>\n",
       "    </tr>\n",
       "    <tr>\n",
       "      <th>6668</th>\n",
       "      <td>370</td>\n",
       "      <td>Yadadri Bhongir</td>\n",
       "      <td>November</td>\n",
       "      <td>681000</td>\n",
       "      <td>2014</td>\n",
       "      <td>NaN</td>\n",
       "      <td>NaN</td>\n",
       "      <td>NaN</td>\n",
       "      <td>NaN</td>\n",
       "      <td>NaN</td>\n",
       "      <td>NaN</td>\n",
       "      <td>NaN</td>\n",
       "      <td>NaN</td>\n",
       "      <td>NaN</td>\n",
       "      <td>NaN</td>\n",
       "      <td>NaN</td>\n",
       "    </tr>\n",
       "    <tr>\n",
       "      <th>6669</th>\n",
       "      <td>371</td>\n",
       "      <td>Yadadri Bhongir</td>\n",
       "      <td>December</td>\n",
       "      <td>462800</td>\n",
       "      <td>2014</td>\n",
       "      <td>NaN</td>\n",
       "      <td>NaN</td>\n",
       "      <td>NaN</td>\n",
       "      <td>NaN</td>\n",
       "      <td>NaN</td>\n",
       "      <td>NaN</td>\n",
       "      <td>NaN</td>\n",
       "      <td>NaN</td>\n",
       "      <td>NaN</td>\n",
       "      <td>NaN</td>\n",
       "      <td>NaN</td>\n",
       "    </tr>\n",
       "  </tbody>\n",
       "</table>\n",
       "</div>"
      ],
      "text/plain": [
       "      Unnamed: 0         District     Month Visitors  Year  Unnamed: 3  \\\n",
       "6667         369  Yadadri Bhongir   October   584800  2014         NaN   \n",
       "6668         370  Yadadri Bhongir  November   681000  2014         NaN   \n",
       "6669         371  Yadadri Bhongir  December   462800  2014         NaN   \n",
       "\n",
       "      Unnamed: 4  Unnamed: 5  Unnamed: 6  Unnamed: 7  Unnamed: 8  Unnamed: 9  \\\n",
       "6667         NaN         NaN         NaN         NaN         NaN         NaN   \n",
       "6668         NaN         NaN         NaN         NaN         NaN         NaN   \n",
       "6669         NaN         NaN         NaN         NaN         NaN         NaN   \n",
       "\n",
       "      Unnamed: 10  Unnamed: 11  Unnamed: 12  Unnamed: 13  \n",
       "6667          NaN          NaN          NaN          NaN  \n",
       "6668          NaN          NaN          NaN          NaN  \n",
       "6669          NaN          NaN          NaN          NaN  "
      ]
     },
     "execution_count": 6,
     "metadata": {},
     "output_type": "execute_result"
    }
   ],
   "source": [
    "df.tail(3)"
   ]
  },
  {
   "cell_type": "markdown",
   "id": "7607473f-4fae-401d-886a-b9e4284d52fe",
   "metadata": {},
   "source": [
    "### Metadata:\n",
    "1. Unnamed: 0: Visitor's Identification number\n",
    "2. District : Name of the district\n",
    "3. Month : Name of the month\n",
    "4. Visitors : Number of visitors\n",
    "5. Year: Visiting year"
   ]
  },
  {
   "cell_type": "markdown",
   "id": "c46ca6f5-3093-4f9c-b73f-ae0400e18e76",
   "metadata": {},
   "source": [
    "### Data Exploration and Manipulation"
   ]
  },
  {
   "cell_type": "code",
   "execution_count": 7,
   "id": "1fb1e2ff-a8ff-44c3-b281-f28a132749a7",
   "metadata": {},
   "outputs": [
    {
     "data": {
      "text/plain": [
       "['Unnamed: 0',\n",
       " 'District',\n",
       " 'Month',\n",
       " 'Visitors',\n",
       " 'Year',\n",
       " 'Unnamed: 3',\n",
       " 'Unnamed: 4',\n",
       " 'Unnamed: 5',\n",
       " 'Unnamed: 6',\n",
       " 'Unnamed: 7',\n",
       " 'Unnamed: 8',\n",
       " 'Unnamed: 9',\n",
       " 'Unnamed: 10',\n",
       " 'Unnamed: 11',\n",
       " 'Unnamed: 12',\n",
       " 'Unnamed: 13']"
      ]
     },
     "execution_count": 7,
     "metadata": {},
     "output_type": "execute_result"
    }
   ],
   "source": [
    "df.columns.to_list()"
   ]
  },
  {
   "cell_type": "code",
   "execution_count": 8,
   "id": "cf8b7308-5929-4d8d-a819-630614e43b8c",
   "metadata": {},
   "outputs": [
    {
     "data": {
      "text/plain": [
       "(6670, 16)"
      ]
     },
     "execution_count": 8,
     "metadata": {},
     "output_type": "execute_result"
    }
   ],
   "source": [
    "df.shape"
   ]
  },
  {
   "cell_type": "markdown",
   "id": "3614b54a-2f6a-4b87-9106-3f7d4840d216",
   "metadata": {},
   "source": [
    " ##### There are 6670 rows and 16 columns in the dataset."
   ]
  },
  {
   "cell_type": "code",
   "execution_count": 9,
   "id": "7b2dc0b5-bd02-4ac0-9587-3ed593c275a1",
   "metadata": {},
   "outputs": [
    {
     "data": {
      "text/plain": [
       "Unnamed: 0       int64\n",
       "District        object\n",
       "Month           object\n",
       "Visitors        object\n",
       "Year             int64\n",
       "Unnamed: 3     float64\n",
       "Unnamed: 4     float64\n",
       "Unnamed: 5     float64\n",
       "Unnamed: 6     float64\n",
       "Unnamed: 7     float64\n",
       "Unnamed: 8     float64\n",
       "Unnamed: 9     float64\n",
       "Unnamed: 10    float64\n",
       "Unnamed: 11    float64\n",
       "Unnamed: 12    float64\n",
       "Unnamed: 13    float64\n",
       "dtype: object"
      ]
     },
     "execution_count": 9,
     "metadata": {},
     "output_type": "execute_result"
    }
   ],
   "source": [
    "df.dtypes"
   ]
  },
  {
   "cell_type": "markdown",
   "id": "2a533122-3ee3-47f6-8730-dfe6872e469b",
   "metadata": {},
   "source": [
    "##### Datatype of District, Month and Visitors column is 'object' and Year column has 'int64' datatype."
   ]
  },
  {
   "cell_type": "code",
   "execution_count": 10,
   "id": "31ea29db-36b9-44e2-915a-ea8a67e3f119",
   "metadata": {},
   "outputs": [
    {
     "data": {
      "text/html": [
       "<div>\n",
       "<style scoped>\n",
       "    .dataframe tbody tr th:only-of-type {\n",
       "        vertical-align: middle;\n",
       "    }\n",
       "\n",
       "    .dataframe tbody tr th {\n",
       "        vertical-align: top;\n",
       "    }\n",
       "\n",
       "    .dataframe thead th {\n",
       "        text-align: right;\n",
       "    }\n",
       "</style>\n",
       "<table border=\"1\" class=\"dataframe\">\n",
       "  <thead>\n",
       "    <tr style=\"text-align: right;\">\n",
       "      <th></th>\n",
       "      <th>District</th>\n",
       "      <th>Month</th>\n",
       "      <th>Visitors</th>\n",
       "    </tr>\n",
       "  </thead>\n",
       "  <tbody>\n",
       "    <tr>\n",
       "      <th>count</th>\n",
       "      <td>6624</td>\n",
       "      <td>6624</td>\n",
       "      <td>6496</td>\n",
       "    </tr>\n",
       "    <tr>\n",
       "      <th>unique</th>\n",
       "      <td>70</td>\n",
       "      <td>22</td>\n",
       "      <td>2565</td>\n",
       "    </tr>\n",
       "    <tr>\n",
       "      <th>top</th>\n",
       "      <td>Adilabad</td>\n",
       "      <td>April</td>\n",
       "      <td>0</td>\n",
       "    </tr>\n",
       "    <tr>\n",
       "      <th>freq</th>\n",
       "      <td>240</td>\n",
       "      <td>552</td>\n",
       "      <td>2332</td>\n",
       "    </tr>\n",
       "  </tbody>\n",
       "</table>\n",
       "</div>"
      ],
      "text/plain": [
       "        District  Month Visitors\n",
       "count       6624   6624     6496\n",
       "unique        70     22     2565\n",
       "top     Adilabad  April        0\n",
       "freq         240    552     2332"
      ]
     },
     "execution_count": 10,
     "metadata": {},
     "output_type": "execute_result"
    }
   ],
   "source": [
    "df.describe(include='object')"
   ]
  },
  {
   "cell_type": "code",
   "execution_count": 11,
   "id": "685d3e65-4ce5-4d89-9e10-6b9d72e4ca2a",
   "metadata": {},
   "outputs": [
    {
     "data": {
      "text/html": [
       "<div>\n",
       "<style scoped>\n",
       "    .dataframe tbody tr th:only-of-type {\n",
       "        vertical-align: middle;\n",
       "    }\n",
       "\n",
       "    .dataframe tbody tr th {\n",
       "        vertical-align: top;\n",
       "    }\n",
       "\n",
       "    .dataframe thead th {\n",
       "        text-align: right;\n",
       "    }\n",
       "</style>\n",
       "<table border=\"1\" class=\"dataframe\">\n",
       "  <thead>\n",
       "    <tr style=\"text-align: right;\">\n",
       "      <th></th>\n",
       "      <th>Unnamed: 0</th>\n",
       "      <th>Year</th>\n",
       "      <th>Unnamed: 3</th>\n",
       "      <th>Unnamed: 4</th>\n",
       "      <th>Unnamed: 5</th>\n",
       "      <th>Unnamed: 6</th>\n",
       "      <th>Unnamed: 7</th>\n",
       "      <th>Unnamed: 8</th>\n",
       "      <th>Unnamed: 9</th>\n",
       "      <th>Unnamed: 10</th>\n",
       "      <th>Unnamed: 11</th>\n",
       "      <th>Unnamed: 12</th>\n",
       "      <th>Unnamed: 13</th>\n",
       "    </tr>\n",
       "  </thead>\n",
       "  <tbody>\n",
       "    <tr>\n",
       "      <th>count</th>\n",
       "      <td>6670.000000</td>\n",
       "      <td>6670.000000</td>\n",
       "      <td>0.0</td>\n",
       "      <td>0.0</td>\n",
       "      <td>0.0</td>\n",
       "      <td>0.0</td>\n",
       "      <td>0.0</td>\n",
       "      <td>0.0</td>\n",
       "      <td>0.0</td>\n",
       "      <td>0.0</td>\n",
       "      <td>0.0</td>\n",
       "      <td>0.0</td>\n",
       "      <td>0.0</td>\n",
       "    </tr>\n",
       "    <tr>\n",
       "      <th>mean</th>\n",
       "      <td>180.061619</td>\n",
       "      <td>2018.928936</td>\n",
       "      <td>NaN</td>\n",
       "      <td>NaN</td>\n",
       "      <td>NaN</td>\n",
       "      <td>NaN</td>\n",
       "      <td>NaN</td>\n",
       "      <td>NaN</td>\n",
       "      <td>NaN</td>\n",
       "      <td>NaN</td>\n",
       "      <td>NaN</td>\n",
       "      <td>NaN</td>\n",
       "      <td>NaN</td>\n",
       "    </tr>\n",
       "    <tr>\n",
       "      <th>std</th>\n",
       "      <td>109.766383</td>\n",
       "      <td>2.665551</td>\n",
       "      <td>NaN</td>\n",
       "      <td>NaN</td>\n",
       "      <td>NaN</td>\n",
       "      <td>NaN</td>\n",
       "      <td>NaN</td>\n",
       "      <td>NaN</td>\n",
       "      <td>NaN</td>\n",
       "      <td>NaN</td>\n",
       "      <td>NaN</td>\n",
       "      <td>NaN</td>\n",
       "      <td>NaN</td>\n",
       "    </tr>\n",
       "    <tr>\n",
       "      <th>min</th>\n",
       "      <td>0.000000</td>\n",
       "      <td>2014.000000</td>\n",
       "      <td>NaN</td>\n",
       "      <td>NaN</td>\n",
       "      <td>NaN</td>\n",
       "      <td>NaN</td>\n",
       "      <td>NaN</td>\n",
       "      <td>NaN</td>\n",
       "      <td>NaN</td>\n",
       "      <td>NaN</td>\n",
       "      <td>NaN</td>\n",
       "      <td>NaN</td>\n",
       "      <td>NaN</td>\n",
       "    </tr>\n",
       "    <tr>\n",
       "      <th>25%</th>\n",
       "      <td>83.000000</td>\n",
       "      <td>2017.000000</td>\n",
       "      <td>NaN</td>\n",
       "      <td>NaN</td>\n",
       "      <td>NaN</td>\n",
       "      <td>NaN</td>\n",
       "      <td>NaN</td>\n",
       "      <td>NaN</td>\n",
       "      <td>NaN</td>\n",
       "      <td>NaN</td>\n",
       "      <td>NaN</td>\n",
       "      <td>NaN</td>\n",
       "      <td>NaN</td>\n",
       "    </tr>\n",
       "    <tr>\n",
       "      <th>50%</th>\n",
       "      <td>177.000000</td>\n",
       "      <td>2019.000000</td>\n",
       "      <td>NaN</td>\n",
       "      <td>NaN</td>\n",
       "      <td>NaN</td>\n",
       "      <td>NaN</td>\n",
       "      <td>NaN</td>\n",
       "      <td>NaN</td>\n",
       "      <td>NaN</td>\n",
       "      <td>NaN</td>\n",
       "      <td>NaN</td>\n",
       "      <td>NaN</td>\n",
       "      <td>NaN</td>\n",
       "    </tr>\n",
       "    <tr>\n",
       "      <th>75%</th>\n",
       "      <td>275.000000</td>\n",
       "      <td>2021.000000</td>\n",
       "      <td>NaN</td>\n",
       "      <td>NaN</td>\n",
       "      <td>NaN</td>\n",
       "      <td>NaN</td>\n",
       "      <td>NaN</td>\n",
       "      <td>NaN</td>\n",
       "      <td>NaN</td>\n",
       "      <td>NaN</td>\n",
       "      <td>NaN</td>\n",
       "      <td>NaN</td>\n",
       "      <td>NaN</td>\n",
       "    </tr>\n",
       "    <tr>\n",
       "      <th>max</th>\n",
       "      <td>395.000000</td>\n",
       "      <td>2023.000000</td>\n",
       "      <td>NaN</td>\n",
       "      <td>NaN</td>\n",
       "      <td>NaN</td>\n",
       "      <td>NaN</td>\n",
       "      <td>NaN</td>\n",
       "      <td>NaN</td>\n",
       "      <td>NaN</td>\n",
       "      <td>NaN</td>\n",
       "      <td>NaN</td>\n",
       "      <td>NaN</td>\n",
       "      <td>NaN</td>\n",
       "    </tr>\n",
       "  </tbody>\n",
       "</table>\n",
       "</div>"
      ],
      "text/plain": [
       "        Unnamed: 0         Year  Unnamed: 3  Unnamed: 4  Unnamed: 5  \\\n",
       "count  6670.000000  6670.000000         0.0         0.0         0.0   \n",
       "mean    180.061619  2018.928936         NaN         NaN         NaN   \n",
       "std     109.766383     2.665551         NaN         NaN         NaN   \n",
       "min       0.000000  2014.000000         NaN         NaN         NaN   \n",
       "25%      83.000000  2017.000000         NaN         NaN         NaN   \n",
       "50%     177.000000  2019.000000         NaN         NaN         NaN   \n",
       "75%     275.000000  2021.000000         NaN         NaN         NaN   \n",
       "max     395.000000  2023.000000         NaN         NaN         NaN   \n",
       "\n",
       "       Unnamed: 6  Unnamed: 7  Unnamed: 8  Unnamed: 9  Unnamed: 10  \\\n",
       "count         0.0         0.0         0.0         0.0          0.0   \n",
       "mean          NaN         NaN         NaN         NaN          NaN   \n",
       "std           NaN         NaN         NaN         NaN          NaN   \n",
       "min           NaN         NaN         NaN         NaN          NaN   \n",
       "25%           NaN         NaN         NaN         NaN          NaN   \n",
       "50%           NaN         NaN         NaN         NaN          NaN   \n",
       "75%           NaN         NaN         NaN         NaN          NaN   \n",
       "max           NaN         NaN         NaN         NaN          NaN   \n",
       "\n",
       "       Unnamed: 11  Unnamed: 12  Unnamed: 13  \n",
       "count          0.0          0.0          0.0  \n",
       "mean           NaN          NaN          NaN  \n",
       "std            NaN          NaN          NaN  \n",
       "min            NaN          NaN          NaN  \n",
       "25%            NaN          NaN          NaN  \n",
       "50%            NaN          NaN          NaN  \n",
       "75%            NaN          NaN          NaN  \n",
       "max            NaN          NaN          NaN  "
      ]
     },
     "execution_count": 11,
     "metadata": {},
     "output_type": "execute_result"
    }
   ],
   "source": [
    "df.describe(include='number')"
   ]
  },
  {
   "cell_type": "code",
   "execution_count": 12,
   "id": "51204101-35b1-4be8-8efd-774874e0bde0",
   "metadata": {},
   "outputs": [
    {
     "name": "stdout",
     "output_type": "stream",
     "text": [
      "<class 'pandas.core.frame.DataFrame'>\n",
      "RangeIndex: 6670 entries, 0 to 6669\n",
      "Data columns (total 16 columns):\n",
      " #   Column       Non-Null Count  Dtype  \n",
      "---  ------       --------------  -----  \n",
      " 0   Unnamed: 0   6670 non-null   int64  \n",
      " 1   District     6624 non-null   object \n",
      " 2   Month        6624 non-null   object \n",
      " 3   Visitors     6496 non-null   object \n",
      " 4   Year         6670 non-null   int64  \n",
      " 5   Unnamed: 3   0 non-null      float64\n",
      " 6   Unnamed: 4   0 non-null      float64\n",
      " 7   Unnamed: 5   0 non-null      float64\n",
      " 8   Unnamed: 6   0 non-null      float64\n",
      " 9   Unnamed: 7   0 non-null      float64\n",
      " 10  Unnamed: 8   0 non-null      float64\n",
      " 11  Unnamed: 9   0 non-null      float64\n",
      " 12  Unnamed: 10  0 non-null      float64\n",
      " 13  Unnamed: 11  0 non-null      float64\n",
      " 14  Unnamed: 12  0 non-null      float64\n",
      " 15  Unnamed: 13  0 non-null      float64\n",
      "dtypes: float64(11), int64(2), object(3)\n",
      "memory usage: 833.9+ KB\n"
     ]
    }
   ],
   "source": [
    "df.info() "
   ]
  },
  {
   "cell_type": "code",
   "execution_count": 13,
   "id": "82c2551f-94f6-4d3f-aac5-5a9d811c5200",
   "metadata": {},
   "outputs": [
    {
     "data": {
      "text/plain": [
       "array(['Adilabad', 'Komaram Bheem Asifabad', 'Mancherial', 'Nirmal',\n",
       "       'Hyderabad, Ranga Reddy, Medchal -Malkajigiri, & Vikarabad',\n",
       "       'Karimnagar', 'Jagtial', 'Peddapalli', 'Rajarina Sircilla',\n",
       "       'Khammam', 'Bhadradri Kothagudem', 'Mababubnagar',\n",
       "       'Jogulamha Gadwal', 'Nagarkurnool', 'Wanaparthy', 'Narayanapet',\n",
       "       'Medak', 'Sangareddy', 'Siddipet', 'Nalgonda & Suryapet',\n",
       "       'Yadadri Bhongir', 'Nizamabad', 'Kamareddy', 'Hanumakonda',\n",
       "       'Warangal (Rural)', 'Jangann', 'Jayashankar Bhoopalpally',\n",
       "       'Mahabubabad', 'Mulugu', 'Hunmakonda',\n",
       "       'Hyderabad, Ranga Reddy, Medchal & Vikarabad', 'Jangaon',\n",
       "       'Jogulamba Gadwal', 'Mahbubnagar', 'Nalgonda', 'Narayanpet',\n",
       "       'Peddapa li', 'Rajanna Sircilla', 'Siddip et', 'Suryapet',\n",
       "       'Yadadri Bhongir •', 'Mahabubnagar', 'Warangal',\n",
       "       'Bhadradri Kothagudem ', 'Hyderabad', 'Jagtial ', 'Jangaon ',\n",
       "       'Jogulamba Gadwal ', 'Kamareddy ', 'Karimnagar ', 'Mahabubabad ',\n",
       "       'Medak ', 'Medchal ', 'Nagarkurnool ', 'Rajanna Sircilla ',\n",
       "       'Ranga Reddy', 'Sangareddy ', 'Vikarabad', 'Wanaparthy ',\n",
       "       'Warangal (Urban)', 'Hyd & R R Dist.', 'BhadradriKothagudem',\n",
       "       'Jayashankarnhoopalpally', 'JogulambaGadwaI',\n",
       "       'KornaramBheentAsiTabad', 'RajannaSircilla', 'YadadriBhongir', nan,\n",
       "       'JogulambaGadwai', 'KommramBheentAsifabad', 'RajanuaSircilla'],\n",
       "      dtype=object)"
      ]
     },
     "execution_count": 13,
     "metadata": {},
     "output_type": "execute_result"
    }
   ],
   "source": [
    "df['District'].unique() "
   ]
  },
  {
   "cell_type": "code",
   "execution_count": 14,
   "id": "930532f9-8785-450c-9fae-3fe66bd1db48",
   "metadata": {},
   "outputs": [
    {
     "data": {
      "text/plain": [
       "array(['January', 'February', 'March', 'April', 'May', 'June', 'July',\n",
       "       'August', 'September', 'October', 'November', 'December',\n",
       "       'February  ', 'March ', ' September', 'October   ', 'March  ',\n",
       "       'May  ', 'October ', 'December  ', 'January ', 'May ', nan],\n",
       "      dtype=object)"
      ]
     },
     "execution_count": 14,
     "metadata": {},
     "output_type": "execute_result"
    }
   ],
   "source": [
    "df['Month'].unique() "
   ]
  },
  {
   "cell_type": "markdown",
   "id": "ec1f789f-e196-4cf0-942c-e5f947a515e5",
   "metadata": {},
   "source": [
    "### Data Cleaning"
   ]
  },
  {
   "cell_type": "code",
   "execution_count": 15,
   "id": "6777c78e-daff-406a-b5d3-92aaae58220c",
   "metadata": {},
   "outputs": [],
   "source": [
    "# drop unnecessary columns\n",
    "drop_columns = ['Unnamed: 3','Unnamed: 4','Unnamed: 5','Unnamed: 6','Unnamed: 7','Unnamed: 8',\n",
    "                'Unnamed: 9','Unnamed: 10','Unnamed: 11','Unnamed: 12','Unnamed: 13']\n",
    "\n",
    "df.drop(columns = drop_columns, axis=1, inplace=True)"
   ]
  },
  {
   "cell_type": "code",
   "execution_count": 16,
   "id": "635c27c1-22d5-4994-8e49-6a693942d663",
   "metadata": {},
   "outputs": [],
   "source": [
    "# rename column\n",
    "df.rename(columns={\"Unnamed: 0\": \"Visitor's_ID\"}, inplace=True)"
   ]
  },
  {
   "cell_type": "code",
   "execution_count": 17,
   "id": "0e543027-3ebb-419a-8b95-7444d410d1d2",
   "metadata": {},
   "outputs": [],
   "source": [
    "# Remove leading and trailing spaces\n",
    "df['District'] = df['District'].str.strip() \n",
    "df['Month'] = df['Month'].str.strip()"
   ]
  },
  {
   "cell_type": "code",
   "execution_count": 18,
   "id": "25951b57-df21-4ade-8504-6fc783aa45f3",
   "metadata": {},
   "outputs": [],
   "source": [
    "# Remove NaN values from the 'District' column\n",
    "df['District'] = df['District'].dropna()"
   ]
  },
  {
   "cell_type": "code",
   "execution_count": 19,
   "id": "1b7b92e3-2357-4852-910c-0db6031df32c",
   "metadata": {},
   "outputs": [],
   "source": [
    "# Remove bullet point\n",
    "df['District'] = df['District'].str.replace('•', '', regex=False)  "
   ]
  },
  {
   "cell_type": "code",
   "execution_count": 20,
   "id": "34a44438-1ba3-41e7-9334-961f4791a371",
   "metadata": {},
   "outputs": [],
   "source": [
    "# replace '&' with ',' \n",
    "df['District'] = df['District'].str.replace('&', ',')"
   ]
  },
  {
   "cell_type": "code",
   "execution_count": 21,
   "id": "58367910-552c-417f-9b9e-3d0c7e5b6ad5",
   "metadata": {},
   "outputs": [],
   "source": [
    "# Replace 'Siddip et' with 'Siddipet' in the 'District' column\n",
    "df['District'] = df['District'].str.replace('Siddip et', 'Siddipet')"
   ]
  },
  {
   "cell_type": "code",
   "execution_count": 22,
   "id": "16479bf3-c33b-4f5e-8949-8b34fadc7433",
   "metadata": {},
   "outputs": [],
   "source": [
    "# Replace 'Siddip et' with 'Siddipet' in the 'District' column\n",
    "df['District'] = df['District'].str.replace('Peddapa li', 'Peddapali') "
   ]
  },
  {
   "cell_type": "code",
   "execution_count": 23,
   "id": "19d109ae-f414-4e1f-a1a9-2f64cdf47955",
   "metadata": {},
   "outputs": [],
   "source": [
    "# Replace 'JogulambaGadwai' with 'Jogulamba Gadwal' in the 'District' column\n",
    "df['District'] = df['District'].str.replace('JogulambaGadwai', 'Jogulamba Gadwal') "
   ]
  },
  {
   "cell_type": "code",
   "execution_count": 24,
   "id": "158b7d55-a8e4-4b77-a30f-8a238d72f23e",
   "metadata": {},
   "outputs": [],
   "source": [
    "# Replace 'Nalgonda & Suryapet' with 'Nalgonda , Suryapet' in the 'District' column\n",
    "df['District'] = df['District'].str.replace('Nalgonda & Suryapet', 'Nalgonda , Suryapet')"
   ]
  },
  {
   "cell_type": "code",
   "execution_count": 25,
   "id": "644ec1f9-6fc1-4d79-abea-80cbb5e67f47",
   "metadata": {},
   "outputs": [],
   "source": [
    "# Replace 'JogulambaGadwai' with 'Jogulamba Gadwal' in the 'District' column\n",
    "df['District'] = df['District'].str.replace('JogulambaGadwaI', 'Jogulamba Gadwal')"
   ]
  },
  {
   "cell_type": "code",
   "execution_count": 26,
   "id": "63711e94-6606-47de-87cc-97154ccf509a",
   "metadata": {},
   "outputs": [],
   "source": [
    "# Replace 'Jayashankarnhoopalpally' with 'Jayashankar Bhupalpally' in the 'District' column\n",
    "df['District'] = df['District'].str.replace('Jayashankarnhoopalpally', 'Jayashankar Bhupalpally')\n",
    "df['District'] = df['District'].str.replace('Jayashankar Bhoopalpally', 'Jayashankar Bhupalpally')"
   ]
  },
  {
   "cell_type": "code",
   "execution_count": 27,
   "id": "15f9ed84-c8c3-4a2b-a087-3c3fbc0bf5cd",
   "metadata": {},
   "outputs": [],
   "source": [
    "# Replace '& Vikarabad' with 'Vikarabad' in the 'District' column\n",
    "df['District'] = df['District'].str.replace('Hyderabad, Ranga Reddy, Medchal -Malkajigiri, & Vikarabad', \n",
    "                                            'Hyderabad, Ranga Reddy, Medchal -Malkajigiri, Vikarabad')"
   ]
  },
  {
   "cell_type": "code",
   "execution_count": 28,
   "id": "7f0e26f6-6dd8-4c25-af7b-a58171621357",
   "metadata": {},
   "outputs": [],
   "source": [
    "# Replace 'jangann' with 'jangaon' in the 'District' column\n",
    "df['District'] = df['District'].str.replace('Jangann', 'Jangaon')"
   ]
  },
  {
   "cell_type": "code",
   "execution_count": 29,
   "id": "bfaa31ed-2832-464f-8bdd-cd67a0d5cad6",
   "metadata": {},
   "outputs": [],
   "source": [
    "# Replace 'mahabubnagar' with 'mahbubnagar' in the 'District' column\n",
    "df['District'] = df['District'].str.replace('mahabubnagar', 'mahbubnagar')"
   ]
  },
  {
   "cell_type": "code",
   "execution_count": 30,
   "id": "279f2b0b-1665-4d2f-962f-a48a881a24ca",
   "metadata": {},
   "outputs": [],
   "source": [
    "# Replace 'BhadradriKothagudem' with 'Bhadradri Kothagudem' in the 'District' column\n",
    "df['District'] = df['District'].str.replace('BhadradriKothagudem', 'Bhadradri Kothagudem')"
   ]
  },
  {
   "cell_type": "code",
   "execution_count": 31,
   "id": "3158247c-a566-448e-869b-68bfb162db89",
   "metadata": {},
   "outputs": [],
   "source": [
    "# Replace 'Hunmakonda' with 'Hanumakonda' in the 'District' column\n",
    "df['District'] = df['District'].str.replace('Hunmakonda', 'Hanumakonda')"
   ]
  },
  {
   "cell_type": "code",
   "execution_count": 32,
   "id": "0de9f3ec-828e-4d6c-81d4-4f1f88631d52",
   "metadata": {},
   "outputs": [],
   "source": [
    "# Replace 'Mababubnagar' with 'Mahbubnagar' in the 'District' column\n",
    "df['District'] = df['District'].str.replace('Mababubnagar', 'Mahbubnagar')"
   ]
  },
  {
   "cell_type": "code",
   "execution_count": 33,
   "id": "3555d60f-23dc-4aa9-a76a-d4bd30070c95",
   "metadata": {},
   "outputs": [],
   "source": [
    "# Replace 'KornaramBheentAsiTabad' with 'Kumram Bheem Asifabad' in the 'District' column\n",
    "df['District'] = df['District'].str.replace('KornaramBheentAsiTabad', 'Kumram Bheem Asifabad')\n",
    "df['District'] = df['District'].str.replace('KommramBheentAsifabad', 'Kumram Bheem Asifabad')"
   ]
  },
  {
   "cell_type": "code",
   "execution_count": 34,
   "id": "8b2c80c1-ee1b-4d86-8dcd-9a94b1a2a5b5",
   "metadata": {},
   "outputs": [],
   "source": [
    "# Replace 'RajarinaSircilla' with 'Rajarina Sircilla' in the 'District' column\n",
    "df['District'] = df['District'].str.replace('RajanuaSircilla', 'Rajanna Sircilla')\n",
    "df['District'] = df['District'].str.replace('Rajarina Sircilla', 'Rajanna Sircilla')"
   ]
  },
  {
   "cell_type": "code",
   "execution_count": 35,
   "id": "9e7e6e25-9dfe-4166-8e29-05e080270e57",
   "metadata": {},
   "outputs": [],
   "source": [
    "# to replace the concatenated names with the correct district names\n",
    "district_mapping = {'KommramBheentAsiTabad': 'Kumram Bheem Asifabad'}\n",
    "df['District'] = df['District'].replace(district_mapping) "
   ]
  },
  {
   "cell_type": "code",
   "execution_count": 36,
   "id": "7aa84520-1d56-45e8-ba82-7e72375b5076",
   "metadata": {},
   "outputs": [],
   "source": [
    "district_mapping = {'YadadriBhongir': 'Yadadri Bhongir'}\n",
    "df['District'] = df['District'].replace(district_mapping)"
   ]
  },
  {
   "cell_type": "code",
   "execution_count": 37,
   "id": "a125dcb7-d4b3-43d8-ae9a-b1e8eb55aa56",
   "metadata": {},
   "outputs": [],
   "source": [
    "district_mapping = {'RajannaSircilla': 'Rajanna Sircilla'}\n",
    "df['District'] = df['District'].replace(district_mapping)"
   ]
  },
  {
   "cell_type": "code",
   "execution_count": 38,
   "id": "7a954cb1-2127-49eb-b662-c45bbbf3ee19",
   "metadata": {},
   "outputs": [
    {
     "data": {
      "text/plain": [
       "array(['Adilabad', 'Komaram Bheem Asifabad', 'Mancherial', 'Nirmal',\n",
       "       'Hyderabad, Ranga Reddy, Medchal -Malkajigiri, , Vikarabad',\n",
       "       'Karimnagar', 'Jagtial', 'Peddapalli', 'Rajanna Sircilla',\n",
       "       'Khammam', 'Bhadradri Kothagudem', 'Mahbubnagar',\n",
       "       'Jogulamha Gadwal', 'Nagarkurnool', 'Wanaparthy', 'Narayanapet',\n",
       "       'Medak', 'Sangareddy', 'Siddipet', 'Nalgonda , Suryapet',\n",
       "       'Yadadri Bhongir', 'Nizamabad', 'Kamareddy', 'Hanumakonda',\n",
       "       'Warangal (Rural)', 'Jangaon', 'Jayashankar Bhupalpally',\n",
       "       'Mahabubabad', 'Mulugu',\n",
       "       'Hyderabad, Ranga Reddy, Medchal , Vikarabad', 'Jogulamba Gadwal',\n",
       "       'Nalgonda', 'Narayanpet', 'Peddapali', 'Suryapet',\n",
       "       'Yadadri Bhongir ', 'Mahabubnagar', 'Warangal', 'Hyderabad',\n",
       "       'Medchal', 'Ranga Reddy', 'Vikarabad', 'Warangal (Urban)',\n",
       "       'Hyd , R R Dist.', 'Kumram Bheem Asifabad', nan], dtype=object)"
      ]
     },
     "execution_count": 38,
     "metadata": {},
     "output_type": "execute_result"
    }
   ],
   "source": [
    "df['District'].unique() "
   ]
  },
  {
   "cell_type": "code",
   "execution_count": 39,
   "id": "f9aba8b5-2666-4ac1-81f7-3d20d9743b27",
   "metadata": {},
   "outputs": [
    {
     "data": {
      "text/plain": [
       "12"
      ]
     },
     "execution_count": 39,
     "metadata": {},
     "output_type": "execute_result"
    }
   ],
   "source": [
    "df['Month'].nunique() "
   ]
  },
  {
   "cell_type": "code",
   "execution_count": 40,
   "id": "526fe836-ec60-4efa-9c37-d984d9a9cce5",
   "metadata": {},
   "outputs": [],
   "source": [
    "# Remove rows with any null values\n",
    "df = df.dropna() "
   ]
  },
  {
   "cell_type": "code",
   "execution_count": 41,
   "id": "59c09db0-7168-454e-8dfc-d6cf97525e8a",
   "metadata": {},
   "outputs": [
    {
     "data": {
      "text/plain": [
       "Visitor's_ID    0\n",
       "District        0\n",
       "Month           0\n",
       "Visitors        0\n",
       "Year            0\n",
       "dtype: int64"
      ]
     },
     "execution_count": 41,
     "metadata": {},
     "output_type": "execute_result"
    }
   ],
   "source": [
    "df.isnull().sum()"
   ]
  },
  {
   "cell_type": "code",
   "execution_count": 42,
   "id": "d3829612-75d9-4ba5-8ab9-6b675e7bbc9b",
   "metadata": {},
   "outputs": [
    {
     "data": {
      "text/plain": [
       "Visitor's_ID    0.0\n",
       "District        0.0\n",
       "Month           0.0\n",
       "Visitors        0.0\n",
       "Year            0.0\n",
       "dtype: float64"
      ]
     },
     "execution_count": 42,
     "metadata": {},
     "output_type": "execute_result"
    }
   ],
   "source": [
    "null_percentage = (df.isnull().sum() / len(df)) * 100\n",
    "null_percentage"
   ]
  },
  {
   "cell_type": "markdown",
   "id": "3847c1e1-f72f-405c-95ee-8a23c7f9d45e",
   "metadata": {},
   "source": [
    "##### There are no nulls in the dataset."
   ]
  },
  {
   "cell_type": "code",
   "execution_count": 43,
   "id": "7185add2-159d-4958-9356-2218e8aa4cb1",
   "metadata": {},
   "outputs": [],
   "source": [
    "# fill 0 inplace of null values\n",
    "df['Visitors'] = pd.to_numeric(df['Visitors'], errors='coerce').fillna(0).astype('int64')"
   ]
  },
  {
   "cell_type": "code",
   "execution_count": 44,
   "id": "649b5845-e17e-430a-b82b-f79adcd39697",
   "metadata": {},
   "outputs": [],
   "source": [
    "# Convert the 'Month' column to category\n",
    "df['Month'] = df['Month'].astype('category') "
   ]
  },
  {
   "cell_type": "code",
   "execution_count": 45,
   "id": "2438040c-0e5b-4540-adb9-962e13fc41d7",
   "metadata": {},
   "outputs": [
    {
     "data": {
      "text/plain": [
       "360"
      ]
     },
     "execution_count": 45,
     "metadata": {},
     "output_type": "execute_result"
    }
   ],
   "source": [
    "# sums the duplicate rows\n",
    "df.duplicated().sum() "
   ]
  },
  {
   "cell_type": "markdown",
   "id": "3fbf45f4-62fd-456d-a269-ce29db0a893c",
   "metadata": {},
   "source": [
    "##### There are 360 duplicate rows in the dataset."
   ]
  },
  {
   "cell_type": "code",
   "execution_count": 46,
   "id": "27f62505-ca35-4c1f-baa1-a0368947cfad",
   "metadata": {},
   "outputs": [
    {
     "data": {
      "text/html": [
       "<div>\n",
       "<style scoped>\n",
       "    .dataframe tbody tr th:only-of-type {\n",
       "        vertical-align: middle;\n",
       "    }\n",
       "\n",
       "    .dataframe tbody tr th {\n",
       "        vertical-align: top;\n",
       "    }\n",
       "\n",
       "    .dataframe thead th {\n",
       "        text-align: right;\n",
       "    }\n",
       "</style>\n",
       "<table border=\"1\" class=\"dataframe\">\n",
       "  <thead>\n",
       "    <tr style=\"text-align: right;\">\n",
       "      <th></th>\n",
       "      <th>Visitor's_ID</th>\n",
       "      <th>District</th>\n",
       "      <th>Month</th>\n",
       "      <th>Visitors</th>\n",
       "      <th>Year</th>\n",
       "    </tr>\n",
       "  </thead>\n",
       "  <tbody>\n",
       "    <tr>\n",
       "      <th>4034</th>\n",
       "      <td>100</td>\n",
       "      <td>Kamareddy</td>\n",
       "      <td>May</td>\n",
       "      <td>0</td>\n",
       "      <td>2021</td>\n",
       "    </tr>\n",
       "    <tr>\n",
       "      <th>4190</th>\n",
       "      <td>256</td>\n",
       "      <td>Nizamabad</td>\n",
       "      <td>May</td>\n",
       "      <td>0</td>\n",
       "      <td>2021</td>\n",
       "    </tr>\n",
       "    <tr>\n",
       "      <th>4462</th>\n",
       "      <td>180</td>\n",
       "      <td>Medchal</td>\n",
       "      <td>January</td>\n",
       "      <td>0</td>\n",
       "      <td>2020</td>\n",
       "    </tr>\n",
       "  </tbody>\n",
       "</table>\n",
       "</div>"
      ],
      "text/plain": [
       "      Visitor's_ID   District    Month  Visitors  Year\n",
       "4034           100  Kamareddy      May         0  2021\n",
       "4190           256  Nizamabad      May         0  2021\n",
       "4462           180    Medchal  January         0  2020"
      ]
     },
     "execution_count": 46,
     "metadata": {},
     "output_type": "execute_result"
    }
   ],
   "source": [
    "duplicates = df[df.duplicated()]\n",
    "duplicates.head(3) "
   ]
  },
  {
   "cell_type": "code",
   "execution_count": 47,
   "id": "0a84d770-e57f-4ac9-b55a-cdc8b6e80854",
   "metadata": {},
   "outputs": [
    {
     "data": {
      "text/html": [
       "<div>\n",
       "<style scoped>\n",
       "    .dataframe tbody tr th:only-of-type {\n",
       "        vertical-align: middle;\n",
       "    }\n",
       "\n",
       "    .dataframe tbody tr th {\n",
       "        vertical-align: top;\n",
       "    }\n",
       "\n",
       "    .dataframe thead th {\n",
       "        text-align: right;\n",
       "    }\n",
       "</style>\n",
       "<table border=\"1\" class=\"dataframe\">\n",
       "  <thead>\n",
       "    <tr style=\"text-align: right;\">\n",
       "      <th></th>\n",
       "      <th>Visitor's_ID</th>\n",
       "      <th>District</th>\n",
       "      <th>Month</th>\n",
       "      <th>Visitors</th>\n",
       "      <th>Year</th>\n",
       "    </tr>\n",
       "  </thead>\n",
       "  <tbody>\n",
       "    <tr>\n",
       "      <th>48</th>\n",
       "      <td>48</td>\n",
       "      <td>Hyderabad, Ranga Reddy, Medchal -Malkajigiri, ...</td>\n",
       "      <td>January</td>\n",
       "      <td>20226</td>\n",
       "      <td>2023</td>\n",
       "    </tr>\n",
       "    <tr>\n",
       "      <th>49</th>\n",
       "      <td>49</td>\n",
       "      <td>Hyderabad, Ranga Reddy, Medchal -Malkajigiri, ...</td>\n",
       "      <td>February</td>\n",
       "      <td>18838</td>\n",
       "      <td>2023</td>\n",
       "    </tr>\n",
       "    <tr>\n",
       "      <th>50</th>\n",
       "      <td>50</td>\n",
       "      <td>Hyderabad, Ranga Reddy, Medchal -Malkajigiri, ...</td>\n",
       "      <td>March</td>\n",
       "      <td>20599</td>\n",
       "      <td>2023</td>\n",
       "    </tr>\n",
       "    <tr>\n",
       "      <th>51</th>\n",
       "      <td>51</td>\n",
       "      <td>Hyderabad, Ranga Reddy, Medchal -Malkajigiri, ...</td>\n",
       "      <td>April</td>\n",
       "      <td>5802</td>\n",
       "      <td>2023</td>\n",
       "    </tr>\n",
       "    <tr>\n",
       "      <th>52</th>\n",
       "      <td>52</td>\n",
       "      <td>Hyderabad, Ranga Reddy, Medchal -Malkajigiri, ...</td>\n",
       "      <td>May</td>\n",
       "      <td>8674</td>\n",
       "      <td>2023</td>\n",
       "    </tr>\n",
       "  </tbody>\n",
       "</table>\n",
       "</div>"
      ],
      "text/plain": [
       "    Visitor's_ID                                           District     Month  \\\n",
       "48            48  Hyderabad, Ranga Reddy, Medchal -Malkajigiri, ...   January   \n",
       "49            49  Hyderabad, Ranga Reddy, Medchal -Malkajigiri, ...  February   \n",
       "50            50  Hyderabad, Ranga Reddy, Medchal -Malkajigiri, ...     March   \n",
       "51            51  Hyderabad, Ranga Reddy, Medchal -Malkajigiri, ...     April   \n",
       "52            52  Hyderabad, Ranga Reddy, Medchal -Malkajigiri, ...       May   \n",
       "\n",
       "    Visitors  Year  \n",
       "48     20226  2023  \n",
       "49     18838  2023  \n",
       "50     20599  2023  \n",
       "51      5802  2023  \n",
       "52      8674  2023  "
      ]
     },
     "execution_count": 47,
     "metadata": {},
     "output_type": "execute_result"
    }
   ],
   "source": [
    "# Group by 'District' and 'Month' and then check the uniqueness of 'Visitors'\n",
    "partial_duplicates = df[df.duplicated(subset=['District', 'Month'], keep=False) & ~df.duplicated(subset=['District', 'Month', 'Visitors'], keep=False)]\n",
    "partial_duplicates.head() "
   ]
  },
  {
   "cell_type": "code",
   "execution_count": 48,
   "id": "e2f182c8-d05b-4325-b74d-6419ed6a391e",
   "metadata": {},
   "outputs": [
    {
     "name": "stdout",
     "output_type": "stream",
     "text": [
      "<class 'pandas.core.frame.DataFrame'>\n",
      "Index: 6496 entries, 0 to 6669\n",
      "Data columns (total 5 columns):\n",
      " #   Column        Non-Null Count  Dtype   \n",
      "---  ------        --------------  -----   \n",
      " 0   Visitor's_ID  6496 non-null   int64   \n",
      " 1   District      6496 non-null   object  \n",
      " 2   Month         6496 non-null   category\n",
      " 3   Visitors      6496 non-null   int64   \n",
      " 4   Year          6496 non-null   int64   \n",
      "dtypes: category(1), int64(3), object(1)\n",
      "memory usage: 260.5+ KB\n"
     ]
    }
   ],
   "source": [
    "df.info() "
   ]
  },
  {
   "cell_type": "code",
   "execution_count": 49,
   "id": "7de0fe25-ad05-4f03-a2f5-6a39431dd9aa",
   "metadata": {},
   "outputs": [],
   "source": [
    "df.to_csv('Cleaned_tourism_data.csv', index=False) "
   ]
  },
  {
   "cell_type": "code",
   "execution_count": 50,
   "id": "6c77bad1-8a98-4590-a9f6-293e93653d19",
   "metadata": {},
   "outputs": [],
   "source": [
    "import mysql.connector\n",
    "import os\n",
    "\n",
    "# List of CSV file and their corresponding table name\n",
    "csv_file = [ ('Cleaned_tourism_data.csv', 'Tourism') ]\n",
    "\n",
    "# Connect to the MySQL database\n",
    "conn = mysql.connector.connect(\n",
    "    host='127.0.0.1',\n",
    "    user='root',\n",
    "    password='Pandya@1939',\n",
    "    database='tourism'\n",
    ")\n",
    "cursor = conn.cursor()"
   ]
  },
  {
   "cell_type": "code",
   "execution_count": 51,
   "id": "85c16b35-ee4f-447e-8613-5fe69ba94667",
   "metadata": {},
   "outputs": [
    {
     "name": "stdout",
     "output_type": "stream",
     "text": [
      "Yes!\n",
      "You're connected to database!\n"
     ]
    }
   ],
   "source": [
    "if conn.is_connected():\n",
    "        print(\"Yes!\")\n",
    "cursor.execute(\"SELECT DATABASE();\")\n",
    "record = cursor.fetchone()\n",
    "print(\"You're connected to database!\")"
   ]
  },
  {
   "cell_type": "code",
   "execution_count": 52,
   "id": "da0cd1fa-167a-4fb6-8fa1-54f26794bac0",
   "metadata": {},
   "outputs": [
    {
     "data": {
      "text/html": [
       "<div>\n",
       "<style scoped>\n",
       "    .dataframe tbody tr th:only-of-type {\n",
       "        vertical-align: middle;\n",
       "    }\n",
       "\n",
       "    .dataframe tbody tr th {\n",
       "        vertical-align: top;\n",
       "    }\n",
       "\n",
       "    .dataframe thead th {\n",
       "        text-align: right;\n",
       "    }\n",
       "</style>\n",
       "<table border=\"1\" class=\"dataframe\">\n",
       "  <thead>\n",
       "    <tr style=\"text-align: right;\">\n",
       "      <th></th>\n",
       "      <th>Visitor's_ID</th>\n",
       "      <th>District</th>\n",
       "      <th>Month</th>\n",
       "      <th>Visitors</th>\n",
       "      <th>Year</th>\n",
       "    </tr>\n",
       "  </thead>\n",
       "  <tbody>\n",
       "    <tr>\n",
       "      <th>0</th>\n",
       "      <td>0</td>\n",
       "      <td>Adilabad</td>\n",
       "      <td>January</td>\n",
       "      <td>0</td>\n",
       "      <td>2023</td>\n",
       "    </tr>\n",
       "    <tr>\n",
       "      <th>1</th>\n",
       "      <td>1</td>\n",
       "      <td>Adilabad</td>\n",
       "      <td>February</td>\n",
       "      <td>0</td>\n",
       "      <td>2023</td>\n",
       "    </tr>\n",
       "    <tr>\n",
       "      <th>2</th>\n",
       "      <td>2</td>\n",
       "      <td>Adilabad</td>\n",
       "      <td>March</td>\n",
       "      <td>0</td>\n",
       "      <td>2023</td>\n",
       "    </tr>\n",
       "  </tbody>\n",
       "</table>\n",
       "</div>"
      ],
      "text/plain": [
       "   Visitor's_ID  District     Month  Visitors  Year\n",
       "0             0  Adilabad   January         0  2023\n",
       "1             1  Adilabad  February         0  2023\n",
       "2             2  Adilabad     March         0  2023"
      ]
     },
     "execution_count": 52,
     "metadata": {},
     "output_type": "execute_result"
    }
   ],
   "source": [
    "# Read the CSV file into a pandas DataFrame\n",
    "csv_file_path = 'C:/ProgramData/MySQL/MySQL Server 8.0/Uploads/Cleaned_tourism_data.csv'\n",
    "df = pd.read_csv(csv_file_path)\n",
    "df.head(3) "
   ]
  },
  {
   "cell_type": "code",
   "execution_count": 53,
   "id": "a9547787-713e-4457-b2d8-defb7658f6b1",
   "metadata": {},
   "outputs": [
    {
     "name": "stdout",
     "output_type": "stream",
     "text": [
      "Data has been successfully loaded into the MySQL database.\n"
     ]
    }
   ],
   "source": [
    "# Replace NaN with None to handle SQL NULL\n",
    "df = df.where(pd.notnull(df), None)\n",
    "\n",
    "# Clean column names\n",
    "df.columns = [col.replace(' ', '_').replace('-', '_').replace('.', '_') for col in df.columns]\n",
    "\n",
    "# Define a function to map pandas dtypes to SQL data types\n",
    "def get_sql_type(dtype):\n",
    "    if pd.api.types.is_integer_dtype(dtype):\n",
    "        return 'INT'\n",
    "    elif pd.api.types.is_float_dtype(dtype):\n",
    "        return 'FLOAT'\n",
    "    elif pd.api.types.is_bool_dtype(dtype):\n",
    "        return 'BOOLEAN'\n",
    "    elif pd.api.types.is_datetime64_any_dtype(dtype):\n",
    "        return 'DATETIME'\n",
    "    else:\n",
    "        return 'TEXT'\n",
    "\n",
    "# Generate the CREATE TABLE statement with appropriate data types\n",
    "table_name = 'tourism_data'\n",
    "columns = ', '.join([f'`{col}` {get_sql_type(df[col].dtype)}' for col in df.columns])\n",
    "create_table_query = f'CREATE TABLE IF NOT EXISTS `{table_name}` ({columns})'\n",
    "cursor.execute(create_table_query)\n",
    "\n",
    "# Insert DataFrame data into the MySQL table\n",
    "for _, row in df.iterrows():\n",
    "    # Convert row to tuple and handle NaN/None explicitly\n",
    "    values = tuple(None if pd.isna(x) else x for x in row)\n",
    "    sql = f\"INSERT INTO `{table_name}` ({', '.join(['`' + col + '`' for col in df.columns])}) VALUES ({', '.join(['%s'] * len(row))})\"\n",
    "    cursor.execute(sql, values)\n",
    "\n",
    "# Commit the transaction and close the connection\n",
    "conn.commit()\n",
    "cursor.close()\n",
    "conn.close()\n",
    "\n",
    "print(\"Data has been successfully loaded into the MySQL database.\")"
   ]
  }
 ],
 "metadata": {
  "kernelspec": {
   "display_name": "Python 3 (ipykernel)",
   "language": "python",
   "name": "python3"
  },
  "language_info": {
   "codemirror_mode": {
    "name": "ipython",
    "version": 3
   },
   "file_extension": ".py",
   "mimetype": "text/x-python",
   "name": "python",
   "nbconvert_exporter": "python",
   "pygments_lexer": "ipython3",
   "version": "3.12.4"
  }
 },
 "nbformat": 4,
 "nbformat_minor": 5
}
